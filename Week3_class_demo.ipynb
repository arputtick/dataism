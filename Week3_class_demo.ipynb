{
  "nbformat": 4,
  "nbformat_minor": 0,
  "metadata": {
    "colab": {
      "name": "Class_demo.ipynb",
      "provenance": [],
      "collapsed_sections": [],
      "authorship_tag": "ABX9TyMwG3vzfQCseDWV3yWacFjv",
      "include_colab_link": true
    },
    "kernelspec": {
      "name": "python3",
      "display_name": "Python 3"
    }
  },
  "cells": [
    {
      "cell_type": "markdown",
      "metadata": {
        "id": "view-in-github",
        "colab_type": "text"
      },
      "source": [
        "<a href=\"https://colab.research.google.com/github/arputtick/dataism/blob/master/Week3_class_demo.ipynb\" target=\"_parent\"><img src=\"https://colab.research.google.com/assets/colab-badge.svg\" alt=\"Open In Colab\"/></a>"
      ]
    },
    {
      "cell_type": "code",
      "metadata": {
        "id": "3bHZPHgHhWO0",
        "colab_type": "code",
        "colab": {}
      },
      "source": [
        "# Import the necessary libraries:\n",
        "\n",
        "import numpy as np\n",
        "import matplotlib.pyplot as plt # matplotlib.pyplot contains a large variety of \n",
        "                                # visualization tools."
      ],
      "execution_count": 0,
      "outputs": []
    },
    {
      "cell_type": "code",
      "metadata": {
        "id": "RA06mh8Zhik5",
        "colab_type": "code",
        "colab": {}
      },
      "source": [
        "X = np.array([5,10,15,25])\n",
        "print(X)"
      ],
      "execution_count": 0,
      "outputs": []
    },
    {
      "cell_type": "code",
      "metadata": {
        "id": "zBnrUVxdh5up",
        "colab_type": "code",
        "colab": {}
      },
      "source": [
        "Y = np.array([5,4.3,3.7,2.9])\n",
        "print(Y)"
      ],
      "execution_count": 0,
      "outputs": []
    },
    {
      "cell_type": "code",
      "metadata": {
        "id": "GVJKp654h_m7",
        "colab_type": "code",
        "colab": {}
      },
      "source": [
        "# Plot the labeled data\n",
        "\n",
        "# Specify that we're plotting X against Y. 'bo' stands for blue dots and\n",
        "# describes the style of the plot.\n",
        "plt.plot(X,Y, 'bo') \n",
        "\n",
        "# label the axes\n",
        "plt.ylabel('Tax')\n",
        "plt.xlabel('Co2-Emissions')\n",
        "\n",
        "# start the plot at the point (0,0)\n",
        "plt.xlim(xmin = 0)\n",
        "plt.ylim(ymin = 0)\n",
        "\n",
        "# display the plot\n",
        "plt.show()"
      ],
      "execution_count": 0,
      "outputs": []
    },
    {
      "cell_type": "code",
      "metadata": {
        "id": "dp0SM9KKid1g",
        "colab_type": "code",
        "colab": {}
      },
      "source": [
        "w = -10 * np.random.random_sample() # random number between -10 and 0"
      ],
      "execution_count": 0,
      "outputs": []
    },
    {
      "cell_type": "code",
      "metadata": {
        "id": "xK08nvWoi5gi",
        "colab_type": "code",
        "colab": {}
      },
      "source": [
        "b = 5"
      ],
      "execution_count": 0,
      "outputs": []
    },
    {
      "cell_type": "code",
      "metadata": {
        "id": "hyu5Gx-ZjCxB",
        "colab_type": "code",
        "colab": {}
      },
      "source": [
        "print(w,b) # Check values of w and b"
      ],
      "execution_count": 0,
      "outputs": []
    },
    {
      "cell_type": "code",
      "metadata": {
        "id": "z_a1lJZfjRic",
        "colab_type": "code",
        "colab": {}
      },
      "source": [
        "# Defining the loss function\n",
        "\n",
        "Y_predict = W*X + b "
      ],
      "execution_count": 0,
      "outputs": []
    },
    {
      "cell_type": "code",
      "metadata": {
        "id": "dTxjKdADjiKA",
        "colab_type": "code",
        "colab": {}
      },
      "source": [
        "Y_predict"
      ],
      "execution_count": 0,
      "outputs": []
    },
    {
      "cell_type": "code",
      "metadata": {
        "id": "sGCe2orbjjIw",
        "colab_type": "code",
        "colab": {}
      },
      "source": [
        "# f(x_1), f(x_2), f(x_3), f(x_4), f(x) = W*X +b"
      ],
      "execution_count": 0,
      "outputs": []
    },
    {
      "cell_type": "code",
      "metadata": {
        "id": "_nLlDXElj0JZ",
        "colab_type": "code",
        "colab": {}
      },
      "source": [
        "# difference between predictions and labels\n",
        "diff = Y_predict - Y # list of f(x_i)-y_i"
      ],
      "execution_count": 0,
      "outputs": []
    },
    {
      "cell_type": "code",
      "metadata": {
        "id": "FXM7DlVJj9y5",
        "colab_type": "code",
        "colab": {}
      },
      "source": [
        "# square these\n",
        "sq_diff = diff**2"
      ],
      "execution_count": 0,
      "outputs": []
    },
    {
      "cell_type": "code",
      "metadata": {
        "id": "bJ9OGVatkQ0P",
        "colab_type": "code",
        "colab": {}
      },
      "source": [
        "sq_diff"
      ],
      "execution_count": 0,
      "outputs": []
    },
    {
      "cell_type": "code",
      "metadata": {
        "id": "b9D2Wk4gkR0Y",
        "colab_type": "code",
        "colab": {}
      },
      "source": [
        "loss = 1/len(X) * np.sum(sq_diff)"
      ],
      "execution_count": 0,
      "outputs": []
    },
    {
      "cell_type": "code",
      "metadata": {
        "id": "1Dyyd_2Dkemv",
        "colab_type": "code",
        "colab": {}
      },
      "source": [
        "loss"
      ],
      "execution_count": 0,
      "outputs": []
    },
    {
      "cell_type": "code",
      "metadata": {
        "id": "nzwkftlSkgHp",
        "colab_type": "code",
        "colab": {}
      },
      "source": [
        "learning_rate = .0001 # this is alpha, step size"
      ],
      "execution_count": 0,
      "outputs": []
    },
    {
      "cell_type": "code",
      "metadata": {
        "id": "jAQ-mJYdlEmy",
        "colab_type": "code",
        "colab": {}
      },
      "source": [
        "dW = 2/len(X) * np.sum((Y_predict - Y) * X) # len(X) = 4"
      ],
      "execution_count": 0,
      "outputs": []
    },
    {
      "cell_type": "code",
      "metadata": {
        "id": "ntrjLSS1lv5B",
        "colab_type": "code",
        "colab": {}
      },
      "source": [
        "db = 2/len(X) * np.sum(Y_predict - Y)"
      ],
      "execution_count": 0,
      "outputs": []
    },
    {
      "cell_type": "code",
      "metadata": {
        "id": "TK890y93l7tW",
        "colab_type": "code",
        "colab": {}
      },
      "source": [
        "W = W - learning_rate * dW"
      ],
      "execution_count": 0,
      "outputs": []
    },
    {
      "cell_type": "code",
      "metadata": {
        "id": "nfWT4960mMV4",
        "colab_type": "code",
        "colab": {}
      },
      "source": [
        "W"
      ],
      "execution_count": 0,
      "outputs": []
    },
    {
      "cell_type": "code",
      "metadata": {
        "id": "fvuCbuvimSK8",
        "colab_type": "code",
        "colab": {}
      },
      "source": [
        "b = b - learning_rate * db"
      ],
      "execution_count": 0,
      "outputs": []
    },
    {
      "cell_type": "code",
      "metadata": {
        "id": "VPII836XmYS7",
        "colab_type": "code",
        "colab": {}
      },
      "source": [
        "b"
      ],
      "execution_count": 0,
      "outputs": []
    },
    {
      "cell_type": "code",
      "metadata": {
        "id": "3hbHR7yImZiz",
        "colab_type": "code",
        "colab": {}
      },
      "source": [
        "num_steps = 1000"
      ],
      "execution_count": 0,
      "outputs": []
    },
    {
      "cell_type": "code",
      "metadata": {
        "id": "940wCcVemrEv",
        "colab_type": "code",
        "colab": {}
      },
      "source": [
        "loss_hist = [] # empty array"
      ],
      "execution_count": 0,
      "outputs": []
    },
    {
      "cell_type": "code",
      "metadata": {
        "id": "0tHV81E9mv1k",
        "colab_type": "code",
        "colab": {}
      },
      "source": [
        "for step in range(num_steps): # range(num_steps) is a list [0,1,...,999]\n",
        "    Y_predict = W*X + b\n",
        "\n",
        "    # Computing the loss at our location in the mountains\n",
        "    diff = Y_predict - Y\n",
        "    sq_diff = diff**2\n",
        "    loss = 1/len(X) * np.sum(sq_diff)\n",
        "\n",
        "    # Computed 'gradient'\n",
        "    dW = 2/len(X) * np.sum((Y_predict - Y) * X) # len(X) = 4\n",
        "    db = 2/len(X) * np.sum(Y_predict - Y)\n",
        "\n",
        "    # Take the step:\n",
        "    W = W - learning_rate * dW\n",
        "    b = b - learning_rate * db\n",
        "\n",
        "    # record the loss at every step\n",
        "    loss_hist.append(loss)\n",
        "\n",
        "\n"
      ],
      "execution_count": 0,
      "outputs": []
    },
    {
      "cell_type": "code",
      "metadata": {
        "id": "C0fCMvzeoZhU",
        "colab_type": "code",
        "colab": {}
      },
      "source": [
        "W"
      ],
      "execution_count": 0,
      "outputs": []
    },
    {
      "cell_type": "code",
      "metadata": {
        "id": "dPlJhDX_obqs",
        "colab_type": "code",
        "colab": {}
      },
      "source": [
        "b"
      ],
      "execution_count": 0,
      "outputs": []
    },
    {
      "cell_type": "code",
      "metadata": {
        "id": "a_uJgBxsohcB",
        "colab_type": "code",
        "colab": {}
      },
      "source": [
        "plt.plot(X, Y, 'bo')\n",
        "x = np.linspace(0,30,100)\n",
        "y = W*x + b # predictions for values in that long list\n",
        "plt.plot(x, y, '-r') # -4 = red line\n",
        "plt.ylim(ymin = 0)\n",
        "plt.show()\n"
      ],
      "execution_count": 0,
      "outputs": []
    },
    {
      "cell_type": "code",
      "metadata": {
        "id": "pO0t7BQNpG5F",
        "colab_type": "code",
        "colab": {}
      },
      "source": [
        "plt.plot(loss_hist)\n",
        "plt.show()"
      ],
      "execution_count": 0,
      "outputs": []
    },
    {
      "cell_type": "code",
      "metadata": {
        "id": "4oOFLME1plLs",
        "colab_type": "code",
        "colab": {}
      },
      "source": [
        ""
      ],
      "execution_count": 0,
      "outputs": []
    }
  ]
}