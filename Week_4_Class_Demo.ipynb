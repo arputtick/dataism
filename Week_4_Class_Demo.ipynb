{
  "nbformat": 4,
  "nbformat_minor": 0,
  "metadata": {
    "colab": {
      "name": "Week 4_Class Demo.ipynb",
      "provenance": [],
      "authorship_tag": "ABX9TyP5j1j3uz7QhhbUT8tOV5aA",
      "include_colab_link": true
    },
    "kernelspec": {
      "name": "python3",
      "display_name": "Python 3"
    }
  },
  "cells": [
    {
      "cell_type": "markdown",
      "metadata": {
        "id": "view-in-github",
        "colab_type": "text"
      },
      "source": [
        "<a href=\"https://colab.research.google.com/github/arputtick/dataism/blob/master/Week_4_Class_Demo.ipynb\" target=\"_parent\"><img src=\"https://colab.research.google.com/assets/colab-badge.svg\" alt=\"Open In Colab\"/></a>"
      ]
    },
    {
      "cell_type": "code",
      "metadata": {
        "id": "gXjwMz44g9tk",
        "colab_type": "code",
        "colab": {}
      },
      "source": [
        "import networkx as nx"
      ],
      "execution_count": null,
      "outputs": []
    },
    {
      "cell_type": "code",
      "metadata": {
        "id": "MtyxHyQwhEQI",
        "colab_type": "code",
        "colab": {}
      },
      "source": [
        "social_net_graph = nx.DiGraph()"
      ],
      "execution_count": null,
      "outputs": []
    },
    {
      "cell_type": "code",
      "metadata": {
        "id": "VRybEYpihPbc",
        "colab_type": "code",
        "colab": {}
      },
      "source": [
        "social_net_graph.add_edges_from([(1,2), (1,3), (1,5), (2,1), (3,2), (4,2), (4,3), (5,3),\\\n",
        "                                (5,4), (6,4), (6,5)])"
      ],
      "execution_count": null,
      "outputs": []
    },
    {
      "cell_type": "code",
      "metadata": {
        "id": "cMJBoum2h9gr",
        "colab_type": "code",
        "colab": {
          "base_uri": "https://localhost:8080/",
          "height": 54
        },
        "outputId": "abdf98b3-e8ea-49f1-c9f0-cefbc8876866"
      },
      "source": [
        "social_net_graph.edges"
      ],
      "execution_count": null,
      "outputs": [
        {
          "output_type": "execute_result",
          "data": {
            "text/plain": [
              "OutEdgeView([(1, 2), (1, 3), (1, 5), (2, 1), (3, 2), (5, 3), (5, 4), (4, 2), (4, 3), (6, 4), (6, 5)])"
            ]
          },
          "metadata": {
            "tags": []
          },
          "execution_count": 4
        }
      ]
    },
    {
      "cell_type": "code",
      "metadata": {
        "id": "GVDsQ0dfiDts",
        "colab_type": "code",
        "colab": {
          "base_uri": "https://localhost:8080/",
          "height": 34
        },
        "outputId": "2062f1c2-5fe4-4324-d83a-513780c8c4a3"
      },
      "source": [
        "social_net_graph.nodes"
      ],
      "execution_count": null,
      "outputs": [
        {
          "output_type": "execute_result",
          "data": {
            "text/plain": [
              "NodeView((1, 2, 3, 5, 4, 6))"
            ]
          },
          "metadata": {
            "tags": []
          },
          "execution_count": 5
        }
      ]
    },
    {
      "cell_type": "code",
      "metadata": {
        "id": "zL-BVw7SiGyt",
        "colab_type": "code",
        "colab": {}
      },
      "source": [
        "pos = nx.spring_layout(social_net_graph) # positions nodes in graph"
      ],
      "execution_count": null,
      "outputs": []
    },
    {
      "cell_type": "code",
      "metadata": {
        "id": "W3e6AE7XiWUO",
        "colab_type": "code",
        "colab": {
          "base_uri": "https://localhost:8080/",
          "height": 121
        },
        "outputId": "a64051d2-32e0-4ae6-e3ff-a53983990323"
      },
      "source": [
        "pos"
      ],
      "execution_count": null,
      "outputs": [
        {
          "output_type": "execute_result",
          "data": {
            "text/plain": [
              "{1: array([ 0.21276617, -0.39899533]),\n",
              " 2: array([1.        , 0.09587546]),\n",
              " 3: array([0.15300306, 0.08803727]),\n",
              " 4: array([-0.03730845,  0.58126291]),\n",
              " 5: array([-0.82725652, -0.1831016 ]),\n",
              " 6: array([-0.50120427, -0.1830787 ])}"
            ]
          },
          "metadata": {
            "tags": []
          },
          "execution_count": 7
        }
      ]
    },
    {
      "cell_type": "code",
      "metadata": {
        "id": "rat7zvgIiXSS",
        "colab_type": "code",
        "colab": {
          "base_uri": "https://localhost:8080/",
          "height": 248
        },
        "outputId": "3e8c4dec-ac96-48bc-cdaf-4c18adb3f16e"
      },
      "source": [
        "nx.draw_networkx(social_net_graph, pos)"
      ],
      "execution_count": null,
      "outputs": [
        {
          "output_type": "display_data",
          "data": {
            "image/png": "[encoded data removed]",
            "text/plain": [
              "<Figure size 432x288 with 1 Axes>"
            ]
          },
          "metadata": {
            "tags": []
          }
        }
      ]
    },
    {
      "cell_type": "code",
      "metadata": {
        "id": "5M6_nqvFijfn",
        "colab_type": "code",
        "colab": {}
      },
      "source": [
        "# add 'influence weights'\n",
        "in_deg = social_net_graph.in_degree()"
      ],
      "execution_count": null,
      "outputs": []
    },
    {
      "cell_type": "code",
      "metadata": {
        "id": "7oY7c1XUi65C",
        "colab_type": "code",
        "colab": {
          "base_uri": "https://localhost:8080/",
          "height": 34
        },
        "outputId": "5cbd8c0c-35e4-497d-8333-56b19f50cce8"
      },
      "source": [
        "in_deg"
      ],
      "execution_count": null,
      "outputs": [
        {
          "output_type": "execute_result",
          "data": {
            "text/plain": [
              "InDegreeView({1: 1, 2: 3, 3: 3, 5: 2, 4: 2, 6: 0})"
            ]
          },
          "metadata": {
            "tags": []
          },
          "execution_count": 10
        }
      ]
    },
    {
      "cell_type": "code",
      "metadata": {
        "id": "VAFLQnVAi8W7",
        "colab_type": "code",
        "colab": {}
      },
      "source": [
        "for edge in social_net_graph.edges:\n",
        "    social_net_graph.edges[edge[0],edge[1]]['influence'] = 1 / in_deg[edge[1]]"
      ],
      "execution_count": null,
      "outputs": []
    },
    {
      "cell_type": "code",
      "metadata": {
        "id": "C_TjhdEdj_2O",
        "colab_type": "code",
        "colab": {
          "base_uri": "https://localhost:8080/",
          "height": 208
        },
        "outputId": "c46515b8-7b8b-41ed-a0d7-288327a2a701"
      },
      "source": [
        "for edge in social_net_graph.edges:\n",
        "    print(edge, social_net_graph[edge[0]][edge[1]]['influence'])"
      ],
      "execution_count": null,
      "outputs": [
        {
          "output_type": "stream",
          "text": [
            "(1, 2) 0.3333333333333333\n",
            "(1, 3) 0.3333333333333333\n",
            "(1, 5) 0.5\n",
            "(2, 1) 1.0\n",
            "(3, 2) 0.3333333333333333\n",
            "(5, 3) 0.3333333333333333\n",
            "(5, 4) 0.5\n",
            "(4, 2) 0.3333333333333333\n",
            "(4, 3) 0.3333333333333333\n",
            "(6, 4) 0.5\n",
            "(6, 5) 0.5\n"
          ],
          "name": "stdout"
        }
      ]
    },
    {
      "cell_type": "code",
      "metadata": {
        "id": "bLiqMx19koC6",
        "colab_type": "code",
        "colab": {}
      },
      "source": [
        "seeds = [1,3, 6]\n",
        "not_seeds = [2,4,5]"
      ],
      "execution_count": null,
      "outputs": []
    },
    {
      "cell_type": "code",
      "metadata": {
        "id": "yjKr0Ivpk-_y",
        "colab_type": "code",
        "colab": {
          "base_uri": "https://localhost:8080/",
          "height": 248
        },
        "outputId": "9be883b6-e74f-4821-a7ba-3afec0663db6"
      },
      "source": [
        "nx.draw_networkx(social_net_graph, pos, \n",
        "                    nodelist = seeds,\n",
        "    node_color = 'b',\n",
        "                 node_size = 500,\n",
        "    )"
      ],
      "execution_count": null,
      "outputs": [
        {
          "output_type": "display_data",
          "data": {
            "image/png": "[encoded data removed]",
            "text/plain": [
              "<Figure size 432x288 with 1 Axes>"
            ]
          },
          "metadata": {
            "tags": []
          }
        }
      ]
    },
    {
      "cell_type": "code",
      "metadata": {
        "id": "6JycrVBZlbOD",
        "colab_type": "code",
        "colab": {}
      },
      "source": [
        "for node in social_net_graph.nodes:\n",
        "    social_net_graph.nodes[node]['threshold'] = 0.5"
      ],
      "execution_count": null,
      "outputs": []
    },
    {
      "cell_type": "code",
      "metadata": {
        "id": "GOt32yZNmLlH",
        "colab_type": "code",
        "colab": {
          "base_uri": "https://localhost:8080/",
          "height": 34
        },
        "outputId": "320e40c1-aaa7-449b-dc45-79c09cae689e"
      },
      "source": [
        "social_net_graph.nodes[1]['threshold']"
      ],
      "execution_count": null,
      "outputs": [
        {
          "output_type": "execute_result",
          "data": {
            "text/plain": [
              "0.5"
            ]
          },
          "metadata": {
            "tags": []
          },
          "execution_count": 21
        }
      ]
    },
    {
      "cell_type": "code",
      "metadata": {
        "id": "GtNUI563mehv",
        "colab_type": "code",
        "colab": {}
      },
      "source": [
        "# influence spread\n",
        "new_seeds = []\n",
        "for node in social_net_graph.nodes:\n",
        "    if node in seeds:\n",
        "        continue\n",
        "    else:\n",
        "        influence_sum = 0\n",
        "        for neighbor in social_net_graph.predecessors(node):\n",
        "            if neighbor in seeds:\n",
        "                influence_sum += social_net_graph.edges[neighbor,node]['influence']\n",
        "        \n",
        "        if influence_sum > social_net_graph.nodes[node]['threshold']:\n",
        "            new_seeds.append(node)\n",
        "            not_seeds.remove(node) # this is book-keeping for drawing the graphs\n",
        "\n",
        "seeds += new_seeds"
      ],
      "execution_count": null,
      "outputs": []
    },
    {
      "cell_type": "code",
      "metadata": {
        "id": "q9ME8ZJdoLSn",
        "colab_type": "code",
        "colab": {
          "base_uri": "https://localhost:8080/",
          "height": 34
        },
        "outputId": "a86dfd5c-7c76-4d9a-b2c6-cd2a812eb5b4"
      },
      "source": [
        "seeds"
      ],
      "execution_count": null,
      "outputs": [
        {
          "output_type": "execute_result",
          "data": {
            "text/plain": [
              "[1, 3, 6, 2, 5, 4]"
            ]
          },
          "metadata": {
            "tags": []
          },
          "execution_count": 34
        }
      ]
    },
    {
      "cell_type": "code",
      "metadata": {
        "id": "AYUW5enmoPZv",
        "colab_type": "code",
        "colab": {
          "base_uri": "https://localhost:8080/",
          "height": 248
        },
        "outputId": "78a11307-c6cc-4cc7-9b20-489befdbe452"
      },
      "source": [
        "nx.draw_networkx(social_net_graph, pos, \n",
        "                    nodelist = seeds,\n",
        "    node_color = 'b',\n",
        "                 node_size = 500,\n",
        "    )"
      ],
      "execution_count": null,
      "outputs": [
        {
          "output_type": "display_data",
          "data": {
            "image/png": "[encoded data removed]",
            "text/plain": [
              "<Figure size 432x288 with 1 Axes>"
            ]
          },
          "metadata": {
            "tags": []
          }
        }
      ]
    },
    {
      "cell_type": "code",
      "metadata": {
        "id": "03mtO0BboVxz",
        "colab_type": "code",
        "colab": {}
      },
      "source": [
        ""
      ],
      "execution_count": null,
      "outputs": []
    }
  ]
}