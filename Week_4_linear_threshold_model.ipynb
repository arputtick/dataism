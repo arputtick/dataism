{
  "nbformat": 4,
  "nbformat_minor": 0,
  "metadata": {
    "colab": {
      "name": "Week 4_linear_threshold_model.ipynb",
      "provenance": [],
      "authorship_tag": "ABX9TyPmB2boLR9ZzqifENpZZd57",
      "include_colab_link": true
    },
    "kernelspec": {
      "name": "python3",
      "display_name": "Python 3"
    }
  },
  "cells": [
    {
      "cell_type": "markdown",
      "metadata": {
        "id": "view-in-github",
        "colab_type": "text"
      },
      "source": [
        "<a href=\"https://colab.research.google.com/github/arputtick/dataism/blob/master/Week_4_linear_threshold_model.ipynb\" target=\"_parent\"><img src=\"https://colab.research.google.com/assets/colab-badge.svg\" alt=\"Open In Colab\"/></a>"
      ]
    },
    {
      "cell_type": "markdown",
      "metadata": {
        "id": "LKHHycWLEHIu",
        "colab_type": "text"
      },
      "source": [
        "# **The Linear Threshold Model**\n",
        "The *linear threshold model* is widely used to simulate the diffusion of information, behavior etc. throughout a social network. It can be used in combination with the *influence maximization problem,* in which one tries to identify the most influential individuals in a social network, i.e. those from whom information diffuses the most widely.\n",
        "\n",
        "As we observed in class, the assumptions made in the model are dubious, as are the ethics of using it, especially unbeknownst to the members of a given social network. It's also not clear that applying the LTM in such a setting as real-life social networks of homeless youth is at all effective. Though the model makes seemingly extreme simplifications about human behavior, it and similar models have at least proven effective in tasks related to efficiently diffusing information across online social networks, e.g., viral marketing. Of course it could also be used (even more) maliciously to help intentionally spread disinformation. Regardless of your own trust in the LTM, it's worth knowing about, particularly if we seek to criticize it's use.\n",
        "\n",
        "In this notebook we review the theory and code underlying the LTM. \n",
        "\n",
        "---\n",
        "**Note:** I've decided to slightly modify the steps as presented in class to encompass calculating the weights:\n",
        "\n",
        "1) **Start with social network data as a directed graph:** $G = (V,E)$. Here $V$ is the set of people in the social network and $E$ is the set of pairwise connections (with direction!) between them.\n",
        "\n",
        "2) **Compute the influence weights:** For each ordered pair of individuals $(i,j)$, we compute an influence weight $w_{ij}$.\n",
        "\n",
        "3) **Color the 'seeds' in the graph:** These are the individuals with certain information or behavior that might be spread throughout the network.\n",
        "\n",
        "4) **For each node, set a 'threshold value':** This is a number between 0 and 1 that determines how difficult a person is to influence. \n",
        "\n",
        "5) **Spread influence:** For each individual, compare the total influence on that person with their threshold. If the total influence exceeds the threshold, that individual becomes a seed.\n",
        "\n",
        "6) **Repeat:** We repeat steps 3) and 5) as many times as there are opportunities for the nodes to influence each other. If the influence is continuous, we just repeat until no more seeds can be added.\n",
        "\n",
        "\n",
        "\n",
        "\n"
      ]
    },
    {
      "cell_type": "markdown",
      "metadata": {
        "id": "LdAvYkJdBeeU",
        "colab_type": "text"
      },
      "source": [
        "---\n",
        "# **Example**\n",
        "\n",
        "Let's review the example from class. First we import the networkx library:"
      ]
    },
    {
      "cell_type": "code",
      "metadata": {
        "id": "gXjwMz44g9tk",
        "colab_type": "code",
        "colab": {}
      },
      "source": [
        "import networkx as nx \n",
        "\n",
        "# networkx as a library with functions specially suited to networks (social,\n",
        "# traffic, neural etc.)"
      ],
      "execution_count": 1,
      "outputs": []
    },
    {
      "cell_type": "markdown",
      "metadata": {
        "id": "GFK4M7GgB7uc",
        "colab_type": "text"
      },
      "source": [
        "---\n",
        "# 1. Start with social network data as a directed graph.\n",
        "\n",
        "We start with a social network of six people. We represented the connections in the social network using the following *adjacency matrix:*\n",
        "\n",
        "| Edge (from 'row' to 'column'): 0 = no edge, 1 = edge || 1|2|3|4|5|6|\n",
        "|---||---|---|---|---|---|---|\n",
        "|**Person 1**||0|1|1|0|1|0|\n",
        "|**Person 2**||1|0|0|0|0|0|\n",
        "|**Person 3**||0|1|0|0|0|0|\n",
        "|**Person 4**||0|1|1|0|0|1|\n",
        "|**Person 5**||0|0|1|1|0|0|\n",
        "|**Person 6**||0|0|0|1|1|0|\n",
        "\n",
        "The same social network could be given as a list of pairs:\n",
        "\n",
        "|Person i|Person j|\n",
        "|---|---|\n",
        "|1|2|\n",
        "|1|3|\n",
        "|1|5|\n",
        "|2|1|\n",
        "|3|2|\n",
        "|4|2|\n",
        "|4|3|\n",
        "|5|3|\n",
        "|5|4|\n",
        "|6|4|\n",
        "|6|5|\n",
        "\n",
        "Here each row corresponds to an arrow going from the person in the first column to the person in the second column.\n",
        "\n",
        "In the real world you might come across both ways of representating social network data. The data might also include extra features that we could use in later steps, such as: \n",
        "\n",
        "* characteristics of each individual (e.g. whether or not they regularly use drugs), or \n",
        "* strength/type of relationship between pairs of individuals (e.g. 'strong friend' or 'aquaintance').\n",
        "\n",
        "\n",
        "*In this case*, we have the extra information that:\n",
        "* Person 1 and Person 3 believe Trump should be elected.\n",
        "* Everyone else is undecided.\n",
        "* Each of a person's influencers influences them\n",
        "equally.\n",
        "\n",
        "\n",
        "## Creating a graph object\n",
        "\n",
        "First we create an empty directed graph:"
      ]
    },
    {
      "cell_type": "code",
      "metadata": {
        "id": "MtyxHyQwhEQI",
        "colab_type": "code",
        "colab": {}
      },
      "source": [
        "# create directed graph object and name it 'social_net_graph'\n",
        "\n",
        "social_net_graph = nx.DiGraph()"
      ],
      "execution_count": 2,
      "outputs": []
    },
    {
      "cell_type": "markdown",
      "metadata": {
        "id": "Gcmef5tVFwxE",
        "colab_type": "text"
      },
      "source": [
        "Then we add the edges from the above data tables:"
      ]
    },
    {
      "cell_type": "code",
      "metadata": {
        "id": "VRybEYpihPbc",
        "colab_type": "code",
        "colab": {}
      },
      "source": [
        "social_net_graph.add_edges_from([(1,2), (1,3), (1,5), (2,1), (3,2), (4,2), (4,3), (5,3),\\\n",
        "                                (5,4), (6,4), (6,5)])"
      ],
      "execution_count": 3,
      "outputs": []
    },
    {
      "cell_type": "markdown",
      "metadata": {
        "id": "NYBMK-BhGfET",
        "colab_type": "text"
      },
      "source": [
        "You can refer to the list of edges with the 'edges' function. This will be useful later, when we want to do a for-loop over the edges of the graph:"
      ]
    },
    {
      "cell_type": "code",
      "metadata": {
        "id": "cMJBoum2h9gr",
        "colab_type": "code",
        "colab": {}
      },
      "source": [
        "social_net_graph.edges"
      ],
      "execution_count": null,
      "outputs": []
    },
    {
      "cell_type": "markdown",
      "metadata": {
        "id": "bBSQX-ueGyZB",
        "colab_type": "text"
      },
      "source": [
        "Similarly with the nodes:"
      ]
    },
    {
      "cell_type": "code",
      "metadata": {
        "id": "GVDsQ0dfiDts",
        "colab_type": "code",
        "colab": {
          "base_uri": "https://localhost:8080/",
          "height": 34
        },
        "outputId": "525d3f5c-65f0-43b8-bbb1-4a6fcf8a0f8b"
      },
      "source": [
        "social_net_graph.nodes"
      ],
      "execution_count": 5,
      "outputs": [
        {
          "output_type": "execute_result",
          "data": {
            "text/plain": [
              "NodeView((1, 2, 3, 5, 4, 6))"
            ]
          },
          "metadata": {
            "tags": []
          },
          "execution_count": 5
        }
      ]
    },
    {
      "cell_type": "markdown",
      "metadata": {
        "id": "7I6PmEQmHFwa",
        "colab_type": "text"
      },
      "source": [
        "## Drawing the graph\n",
        "\n",
        "To draw the graph, we first need to use the networkx 'spring_layout()' function to determine the position of the nodes. This uses some algorithm to find a good position for the nodes that leads to a readable graph."
      ]
    },
    {
      "cell_type": "code",
      "metadata": {
        "id": "zL-BVw7SiGyt",
        "colab_type": "code",
        "colab": {}
      },
      "source": [
        "# find the positions of nodes in the graph, as (x,y)-coordinates\n",
        "\n",
        "pos = nx.spring_layout(social_net_graph) "
      ],
      "execution_count": 7,
      "outputs": []
    },
    {
      "cell_type": "markdown",
      "metadata": {
        "id": "3DRCOD11H7y-",
        "colab_type": "text"
      },
      "source": [
        "'pos' is a *dictionary* that associates to each node its corresponding position in the picture of the graph.\n",
        "\n",
        "**Note:** Dictionaries are fundamental concepts in Python. Check out [this video](https://www.youtube.com/watch?v=uCQrfYYhQ-g) for a quick intro."
      ]
    },
    {
      "cell_type": "code",
      "metadata": {
        "id": "W3e6AE7XiWUO",
        "colab_type": "code",
        "colab": {}
      },
      "source": [
        "pos"
      ],
      "execution_count": null,
      "outputs": []
    },
    {
      "cell_type": "markdown",
      "metadata": {
        "id": "cwdDwWSJIof6",
        "colab_type": "text"
      },
      "source": [
        "The most basic way to draw the graph is to use the draw_networkx( ) function:"
      ]
    },
    {
      "cell_type": "code",
      "metadata": {
        "id": "rat7zvgIiXSS",
        "colab_type": "code",
        "colab": {}
      },
      "source": [
        "nx.draw_networkx(social_net_graph, pos)"
      ],
      "execution_count": null,
      "outputs": []
    },
    {
      "cell_type": "markdown",
      "metadata": {
        "id": "I2aGxrkfhmQL",
        "colab_type": "text"
      },
      "source": [
        "**Note:** An arrow in the graph indicates that the person at the start of the arrow influences the person at the end of the arrow."
      ]
    },
    {
      "cell_type": "markdown",
      "metadata": {
        "id": "t1uIzBIVI2_s",
        "colab_type": "text"
      },
      "source": [
        "---\n",
        "# 2) Compute the influence weights\n",
        "\n",
        "An influence weight $w_{ij}$ should be interpreted as the amount that person $i$ influences person $j$. The sum of all the influences on a given person $j$ is a number between 0 and 1:\n",
        "$$0\\leq \\sum_{i\\mbox{ influencing $j$}} w_{ij} \\leq 1 $$\n",
        "\n",
        "In our example we assumed that the sum of these influences is *equal* to 1:\n",
        "\n",
        "$$\\sum_{i\\mbox{ influencing $j$}} w_{ij} = 1 $$\n",
        "\n",
        "We also assumed that each one of an individual's connections influences them equally:\n",
        "$$w_{ij} = w_{kj},$$ where Person $i$ and Person $k$ are any pair of people influencing Person $j$.\n",
        "\n",
        "For example, in the picture above you should be able to see that Person 3 is influenced by Person 1 and Person 4 (and no one else). This means we should have $w_{13} = w_{43} = \\frac{1}{2}.$\n",
        "\n",
        "## Compute the number of influencers each person has\n",
        "\n",
        "The first step is to compute the number of influencers each individual in the graph has, which will give the denominators of the weights. This is done using the 'in_degree( )' function. The *in-degree* of a node is defined to be the number of arrows going *into* that node. This is exactly the number of people influencing the given person:"
      ]
    },
    {
      "cell_type": "code",
      "metadata": {
        "id": "5M6_nqvFijfn",
        "colab_type": "code",
        "colab": {}
      },
      "source": [
        "# Compute the number of influencers for each person simultaneously:\n",
        "num_influencers = social_net_graph.in_degree()\n",
        "\n",
        "## Note: I used the name 'in_deg' for num_influencers in the class demo"
      ],
      "execution_count": 21,
      "outputs": []
    },
    {
      "cell_type": "markdown",
      "metadata": {
        "id": "D2CxAT3JKkkl",
        "colab_type": "text"
      },
      "source": [
        "'num_influencers' is now a dictionary that associates to each person the number of people that are influencing it. You can double-check in the picture above to make sure."
      ]
    },
    {
      "cell_type": "code",
      "metadata": {
        "id": "7oY7c1XUi65C",
        "colab_type": "code",
        "colab": {}
      },
      "source": [
        "# Check what num_influencers looks like\n",
        "num_influencers"
      ],
      "execution_count": null,
      "outputs": []
    },
    {
      "cell_type": "markdown",
      "metadata": {
        "id": "skgvi1B7Wbw_",
        "colab_type": "text"
      },
      "source": [
        "## Compute the weights\n",
        "\n",
        "Let $n_j$ be the number of people influencing person $j$. Since each of the people influencing person $j$ do so with equal weight, they should each have an influence weight of $\\frac{1}{n_j}$. In other words, we should have \n",
        "$$ w_{ij} = \\frac{1}{n_j},$$\n",
        "for every person $i$ who influences person $j$. Compare this general formula to the example with $j = 3$ and $ i = 1,4$ above.\n",
        "\n",
        "The following code computes the weights. Remember that every edge in the graph gets a corresponding weight. Our code labels each edge with it's weight.\n",
        "\n",
        "For example, to label the edge (1,3) with the weight $w_{13} = \\frac{1}{2}$, you would write\n",
        "\n",
        "\n",
        "```\n",
        "social_net_graph.edges[1,3]['influence'] = 1 / 2\n",
        "```\n",
        "\n",
        "When we write that, we are simultaneously creating an attribute for all of the edges called 'influence' and setting the influence for the (1,3) edge equal to 1/2."
      ]
    },
    {
      "cell_type": "code",
      "metadata": {
        "id": "VAFLQnVAi8W7",
        "colab_type": "code",
        "colab": {}
      },
      "source": [
        "## Compute the influence weights and label the edges with them under the\n",
        "## attribute name 'influence.'\n",
        "\n",
        "for edge in social_net_graph.edges:\n",
        "    social_net_graph.edges[edge[0],edge[1]]['influence'] = 1 / num_influencers[edge[1]]\n",
        "    # edge[0] is where the edge starts and edge[1] is where the edge ends."
      ],
      "execution_count": 23,
      "outputs": []
    },
    {
      "cell_type": "markdown",
      "metadata": {
        "id": "z9IM1MzxZtZ-",
        "colab_type": "text"
      },
      "source": [
        "We can print out the computed weights to make sure it worked as expected:"
      ]
    },
    {
      "cell_type": "code",
      "metadata": {
        "id": "C_TjhdEdj_2O",
        "colab_type": "code",
        "colab": {}
      },
      "source": [
        "for edge in social_net_graph.edges:\n",
        "    print(edge, social_net_graph[edge[0]][edge[1]]['influence'])\n",
        "    # Note: 'social_net_graph[edge[0]][edge[1]]' and 'social_net_graph.edges[edge[0],edge[1]]'\n",
        "    # are equivalent. Use whichever you find more intuitive."
      ],
      "execution_count": null,
      "outputs": []
    },
    {
      "cell_type": "markdown",
      "metadata": {
        "id": "7Ofl4PCmb84X",
        "colab_type": "text"
      },
      "source": [
        "# 3) Color the seeds in the graph\n",
        "\n",
        "In this example, the seeds are the people who believe Trump should be re-elected. They are trying to spread this view to others in their social network.\n",
        "\n",
        "We start with Person 1 and Person 3 as seeds. It'll be useful to keep track of the non-seeds, i.e., everyone else as well. Why? Because we might want to represent them with a different color or consider the more complicated situation in which two types of influence compete against each other (such as users vs. non-users in the USC study or vote Trump vs. no Trump in an extension of this example)."
      ]
    },
    {
      "cell_type": "code",
      "metadata": {
        "id": "bLiqMx19koC6",
        "colab_type": "code",
        "colab": {}
      },
      "source": [
        "seeds = [1,3]\n",
        "non_seeds = [2,4,5,6]"
      ],
      "execution_count": 25,
      "outputs": []
    },
    {
      "cell_type": "markdown",
      "metadata": {
        "id": "IEn3tK3fdHVu",
        "colab_type": "text"
      },
      "source": [
        "Let's visualize the seeds and non-seeds in our graph:"
      ]
    },
    {
      "cell_type": "code",
      "metadata": {
        "id": "yjKr0Ivpk-_y",
        "colab_type": "code",
        "colab": {}
      },
      "source": [
        "# First we draw the graph with only the seeds colored (red).\n",
        "# The nodes we wish to color are given by 'nodelist.'\n",
        "nx.draw_networkx(social_net_graph, pos, \n",
        "                    nodelist = seeds,\n",
        "                    node_color = 'r') # 'r' stands for red\n",
        "\n",
        "# We can also color the non_seeds if we run the following\n",
        "# in the SAME CODE CELL.\n",
        "nx.draw_networkx(social_net_graph, pos, \n",
        "                    nodelist = non_seeds,\n",
        "                    node_color = 'w') # 'w' stands for white"
      ],
      "execution_count": null,
      "outputs": []
    },
    {
      "cell_type": "markdown",
      "metadata": {
        "id": "gj1WcjNfaWGn",
        "colab_type": "text"
      },
      "source": [
        "---\n",
        "# 4) Set the threshold values\n",
        "\n",
        "Each person $i$ in the social network gets a corresponding threshold $\\tau_i$ between 0 and 1 which encodes how difficult a person is to influence. $\\tau_i = 0$ means person $i$ is a sheep and $\\tau_i = 1$ means person $i$ only changes their mind if all of their connections adopt a new opinion.\n",
        "\n",
        "**We assume for simplicity that every individual has a threshold of 0.5.**\n",
        "\n",
        "**Note:** Giving everyone the same threshold value is sometimes done in practice, but in the USC study, the thresholds are chosen randomly *from a uniform distribution*. This just means that every number between 0 and 1 is equally likely (as opposed to, say, a normal ditribution, where numbers close to a certain average value are more likely).\n",
        "\n",
        "**Note:** I denoted $\\tau_i$ by $\\mbox{Threshold}(i)$ in class.\n",
        "\n",
        "**Note:** If person $i$ will *never* change their mind, no matter what happenes in their social network, you can set $\\tau_i > 1$, e.g. $\\tau_i = 1.1$."
      ]
    },
    {
      "cell_type": "code",
      "metadata": {
        "id": "6JycrVBZlbOD",
        "colab_type": "code",
        "colab": {}
      },
      "source": [
        "# Give every person a threshold value of 0.5\n",
        "for node in social_net_graph.nodes:\n",
        "    social_net_graph.nodes[node]['threshold'] = 0.5"
      ],
      "execution_count": 26,
      "outputs": []
    },
    {
      "cell_type": "markdown",
      "metadata": {
        "id": "t_8nCpb6e0i5",
        "colab_type": "text"
      },
      "source": [
        "**Note:** Just as we created a new attribute for the edges called 'influence' and stored the influence weights there, we just created an attribute for the nodes called 'threshold' and stored the threshold values there. We could use any names we want in place of 'influence' or 'threshold,' but it's good practice to pick as clear a name as possible."
      ]
    },
    {
      "cell_type": "code",
      "metadata": {
        "id": "GOt32yZNmLlH",
        "colab_type": "code",
        "colab": {}
      },
      "source": [
        "# Check Person 1's threshold value:\n",
        "social_net_graph.nodes[1]['threshold']"
      ],
      "execution_count": null,
      "outputs": []
    },
    {
      "cell_type": "markdown",
      "metadata": {
        "id": "T0r93q4KfgH4",
        "colab_type": "text"
      },
      "source": [
        "---\n",
        "# 5) Spread influence\n",
        "\n",
        "For each person $i$ that *isn't* a seed, take the sum\n",
        "$$\\mbox{influence}(i) = \\sum_{\\mbox{neighboring seeds}} w_{ij}.$$\n",
        "\n",
        "If $\\mbox{influence}(i) > \\tau_i,$ then vertex $i$ becomes a seed, i.e., adopts the behavior/info that is being propagated through the social network from the original set of seeds.\n",
        "\n",
        "In our example, this means that we look at each of the pro-Trump people influencing a given person. If the sum of their influence weights is greater that the threshold (0.5), then that person becomes pro-Trump as well."
      ]
    },
    {
      "cell_type": "code",
      "metadata": {
        "id": "GtNUI563mehv",
        "colab_type": "code",
        "colab": {}
      },
      "source": [
        "## influence spread\n",
        "\n",
        "# First create a an empty list to keep track of who becomes pro-Trump this round.\n",
        "# We do this so that we don't end up counting new seeds in the following for loop.\n",
        "# This is because the assumption is that they haven't had a chance to spread their\n",
        "# opinion yet.\n",
        "new_seeds = []\n",
        "\n",
        "# Now we compare the total influence with the threshold for every person \n",
        "# in the social network.\n",
        "\n",
        "# The most logical way to do this is with a for-loop that runs over the nodes:\n",
        "for node in social_net_graph.nodes:\n",
        "    # We only do something of the node is NOT a seed.\n",
        "    if node in seeds:\n",
        "        continue\n",
        "\n",
        "    else:\n",
        "        # First create a variable to store the total influence\n",
        "        # This is the influence(i) number in the above text.\n",
        "        influence_sum = 0\n",
        "\n",
        "        # Now we look at all the influencers of the node we're currently looking at.\n",
        "        # This is done using the 'predecessors()' function, which takes a node-index\n",
        "        # as input and outputs a list of all of the nodes influencing it.\n",
        "        # We do another for-loop over this list of influencers.\n",
        "        for neighbor in social_net_graph.predecessors(node):\n",
        "\n",
        "            # We only add the influence weights to influence_sum that correspond\n",
        "            # to seeds:\n",
        "            if neighbor in seeds:\n",
        "                influence_sum += social_net_graph.edges[neighbor,node]['influence']\n",
        "\n",
        "        # At the end of this inner for-loop, influence_sum is equal to the desired\n",
        "        # sum.\n",
        "\n",
        "        \n",
        "        # We now compare the total influence to the person's threshold value\n",
        "        if influence_sum > social_net_graph.nodes[node]['threshold']:\n",
        "            # If the influence exceeds the threshold, we add the node to our new_seeds\n",
        "            # list.\n",
        "            new_seeds.append(node)\n",
        "\n",
        "            # We also remove the node from the list of non_seeds\n",
        "            non_seeds.remove(node)\n",
        "\n",
        "\n",
        "# Now that we've performed one round of influence spreading, we add all of the new seeds\n",
        "# to our list of seeds\n",
        "seeds += new_seeds"
      ],
      "execution_count": 28,
      "outputs": []
    },
    {
      "cell_type": "markdown",
      "metadata": {
        "id": "s4OUxWcTnkJc",
        "colab_type": "text"
      },
      "source": [
        "Let's check which people now believe that Trump should be re-elected:"
      ]
    },
    {
      "cell_type": "code",
      "metadata": {
        "id": "q9ME8ZJdoLSn",
        "colab_type": "code",
        "colab": {}
      },
      "source": [
        "seeds"
      ],
      "execution_count": null,
      "outputs": []
    },
    {
      "cell_type": "markdown",
      "metadata": {
        "id": "8gi-vjBqn55Y",
        "colab_type": "text"
      },
      "source": [
        "We can also visualize the results of the influence spread:"
      ]
    },
    {
      "cell_type": "code",
      "metadata": {
        "id": "AYUW5enmoPZv",
        "colab_type": "code",
        "colab": {}
      },
      "source": [
        "nx.draw_networkx(social_net_graph, pos, \n",
        "                    nodelist = seeds,\n",
        "                    node_color = 'r')\n",
        "\n",
        "nx.draw_networkx(social_net_graph, pos, \n",
        "                    nodelist = non_seeds,\n",
        "                    node_color = 'w')"
      ],
      "execution_count": null,
      "outputs": []
    },
    {
      "cell_type": "markdown",
      "metadata": {
        "id": "-tSauvTYoNF9",
        "colab_type": "text"
      },
      "source": [
        "# 6) Repeat\n",
        "\n",
        "**Exercise:** Try rerunning the influence spread loop above. You should see that no new seeds have been added.\n",
        "\n",
        "**Exercise:** Now try going back and changing the initial set of seeds as follows:\n",
        "\n",
        "\n",
        "```\n",
        "seeds = [1,3,6]\n",
        "non_seeds = [2,4,5]\n",
        "```\n",
        "You should see that everyone wants to vote for Trump after two rounds of influence spread.\n"
      ]
    }
  ]
}