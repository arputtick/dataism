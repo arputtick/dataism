{
  "nbformat": 4,
  "nbformat_minor": 0,
  "metadata": {
    "colab": {
      "name": "Assigment 0.ipynb",
      "provenance": [],
      "authorship_tag": "ABX9TyNU35sqVM48CwFdiVCyNFZG",
      "include_colab_link": true
    },
    "kernelspec": {
      "name": "python3",
      "display_name": "Python 3"
    }
  },
  "cells": [
    {
      "cell_type": "markdown",
      "metadata": {
        "id": "view-in-github",
        "colab_type": "text"
      },
      "source": [
        "<a href=\"https://colab.research.google.com/github/arputtick/dataism/blob/master/assigments/Assigment_0.ipynb\" target=\"_parent\"><img src=\"https://colab.research.google.com/assets/colab-badge.svg\" alt=\"Open In Colab\"/></a>"
      ]
    },
    {
      "cell_type": "markdown",
      "metadata": {
        "id": "CGKkS98DdMtM",
        "colab_type": "text"
      },
      "source": [
        "This is a test $\\int_0^1 f(x) dx$."
      ]
    },
    {
      "cell_type": "code",
      "metadata": {
        "id": "wX7gZ6FgdCyK",
        "colab_type": "code",
        "colab": {}
      },
      "source": [
        "import numpy as np\n",
        "import pandas\n",
        "import tensorflow as tf\n"
      ],
      "execution_count": 0,
      "outputs": []
    },
    {
      "cell_type": "markdown",
      "metadata": {
        "id": "_XywijkCdJXU",
        "colab_type": "text"
      },
      "source": [
        ""
      ]
    }
  ]
}