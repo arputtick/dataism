{
  "nbformat": 4,
  "nbformat_minor": 0,
  "metadata": {
    "colab": {
      "name": "Assigment 0.ipynb",
      "provenance": [],
      "authorship_tag": "ABX9TyOnONfOv3A7xDJWEeMhzLEe",
      "include_colab_link": true
    },
    "kernelspec": {
      "name": "python3",
      "display_name": "Python 3"
    }
  },
  "cells": [
    {
      "cell_type": "markdown",
      "metadata": {
        "id": "view-in-github",
        "colab_type": "text"
      },
      "source": [
        "<a href=\"https://colab.research.google.com/github/arputtick/dataism/blob/master/assignments/Assigment_0.ipynb\" target=\"_parent\"><img src=\"https://colab.research.google.com/assets/colab-badge.svg\" alt=\"Open In Colab\"/></a>"
      ]
    },
    {
      "cell_type": "markdown",
      "metadata": {
        "id": "CGKkS98DdMtM",
        "colab_type": "text"
      },
      "source": [
        "# Welcome \n",
        "to the first dataism Jupyter notebook !!!\n",
        "\n",
        "This is just a test to make sure everything is working correctly and no one has trouble accessing assignments, saving their work etc.\n",
        "\n",
        "**Also: A quick primer on Jupyter notebooks**: In theory, you could write and execute the code for (the python part) of an entire project in a single notebook. However, notebooks often reference data stored in a give directory or import functions from written in separate .py files.\n",
        "* The notebooks in this course will be as self-contained as possible.\n",
        "\n",
        "* Each block or 'cell' in a Juptyer notebook can be executed independently. You can type out the code you want and then press 'shift' + 'enter' to run it.\n",
        "\n",
        "* If new cells reference code from earlier cells, you don't need to rerun the old ones.\n",
        "\n",
        "* BUT if you close and reopen the notebook, you have to run all cells from the beginning!"
      ]
    },
    {
      "cell_type": "markdown",
      "metadata": {
        "id": "9Qux5TUFmgUX",
        "colab_type": "text"
      },
      "source": [
        "# Sample:\n",
        "\n",
        "Usually you start by importing all of the libraries you need. Try highlight the following cell and pressing 'shift' + 'enter' to run it."
      ]
    },
    {
      "cell_type": "code",
      "metadata": {
        "id": "wX7gZ6FgdCyK",
        "colab_type": "code",
        "colab": {}
      },
      "source": [
        "import numpy as np\n",
        "import pandas\n",
        "import tensorflow as tf\n"
      ],
      "execution_count": 0,
      "outputs": []
    },
    {
      "cell_type": "markdown",
      "metadata": {
        "id": "fyey2iCrnBR3",
        "colab_type": "text"
      },
      "source": [
        "* numpy is a library that includes a bunch of math functions that are really useful for data science. Video: https://www.youtube.com/watch?v=xECXZ3tyONo\n",
        "\n",
        "* pandas is a library that includes a bunch of functions for visualizing data, manipulating data tables etc. Video: https://www.youtube.com/watch?v=dcqPhpY7tWk\n",
        "\n",
        "We will probably use these two libraries. Maybe we'll even use\n",
        "* tensorflow, which allows you to more easily build and train neural networks."
      ]
    },
    {
      "cell_type": "markdown",
      "metadata": {
        "id": "EyG2_mSfn4_0",
        "colab_type": "text"
      },
      "source": [
        "Now that we've imported numpy (and named it 'np'), we can use check out some basic functions.\n",
        "\n",
        "First we can create a matrix $A = \\begin{pmatrix} 1 & 2 \\\\3 &4\\end{pmatrix}$"
      ]
    },
    {
      "cell_type": "code",
      "metadata": {
        "id": "ilHMaH6tnsw4",
        "colab_type": "code",
        "colab": {}
      },
      "source": [
        "A = np.array([[1,2],[3,4]])"
      ],
      "execution_count": 0,
      "outputs": []
    },
    {
      "cell_type": "code",
      "metadata": {
        "id": "3dDDTnWxobLx",
        "colab_type": "code",
        "colab": {
          "base_uri": "https://localhost:8080/",
          "height": 52
        },
        "outputId": "07228413-43d9-45db-b203-e59be2fd06df"
      },
      "source": [
        "### Hashtags indicate comments in the code that aren't read when it's executed.\n",
        "### It's really good to explain to yourself and others that segments of your code\n",
        "### are doing by using comments.\n",
        "\n",
        "### Let's print A to see how it looks:\n",
        "\n",
        "print(A)"
      ],
      "execution_count": 7,
      "outputs": [
        {
          "output_type": "stream",
          "text": [
            "[[1 2]\n",
            " [3 4]]\n"
          ],
          "name": "stdout"
        }
      ]
    },
    {
      "cell_type": "markdown",
      "metadata": {
        "id": "OKaxq7zdsVHX",
        "colab_type": "text"
      },
      "source": [
        "Here are a couple operations you can do with numpy:"
      ]
    },
    {
      "cell_type": "code",
      "metadata": {
        "id": "Za3lJ9mKpN4I",
        "colab_type": "code",
        "colab": {
          "base_uri": "https://localhost:8080/",
          "height": 69
        },
        "outputId": "61d82ba3-66ef-4647-dabb-ecdc97e11168"
      },
      "source": [
        "print(A.dot(A)) ### Matrix multiplies A to itself and prints the result.\n",
        "\n",
        "np.max(A) ### Returns the maximum element of A"
      ],
      "execution_count": 17,
      "outputs": [
        {
          "output_type": "stream",
          "text": [
            "[[ 7 10]\n",
            " [15 22]]\n"
          ],
          "name": "stdout"
        },
        {
          "output_type": "execute_result",
          "data": {
            "text/plain": [
              "4"
            ]
          },
          "metadata": {
            "tags": []
          },
          "execution_count": 17
        }
      ]
    },
    {
      "cell_type": "markdown",
      "metadata": {
        "id": "0wF1h5u2pTJv",
        "colab_type": "text"
      },
      "source": [
        "# Defining functions\n",
        "\n",
        "You can also write functions in a Jupyter notebook. Functions take in a specific input, do something with it, and spit out an output.\n",
        "\n",
        "Let's define a simple function:"
      ]
    },
    {
      "cell_type": "code",
      "metadata": {
        "id": "m8WUlM1YpobX",
        "colab_type": "code",
        "colab": {}
      },
      "source": [
        "def say_wassup(name):\n",
        "    '''Usually you start by writing three apostrophes and then describe what your\n",
        "    does. This text appears if someone tries to look your function up to see\n",
        "    what it does.\n",
        "\n",
        "    name: is a string. A string is sequence of characters enclosed in ''.\n",
        "    For example 'Alex' or 'Wall-E'\n",
        "\n",
        "    This function takes a name as an input and outputs the sentence:\n",
        "    \"Whassup name!\"\n",
        "\n",
        "    Ex. say_wassup('Dawg')\n",
        "        Output: Whassup Dawg!\n",
        "\n",
        "    You have to end the explantion with three apostrophes before you start\n",
        "    writing the code.\n",
        "    '''\n",
        "\n",
        "    return print('Wassup ' + name + '!') ### This is the output"
      ],
      "execution_count": 0,
      "outputs": []
    },
    {
      "cell_type": "markdown",
      "metadata": {
        "id": "B9trwv8frkw_",
        "colab_type": "text"
      },
      "source": [
        "Once you've run the cell containing the function, you can use it with whatever name you want. Try running the next line of code:"
      ]
    },
    {
      "cell_type": "code",
      "metadata": {
        "id": "Ex91ytIBq5RX",
        "colab_type": "code",
        "colab": {
          "base_uri": "https://localhost:8080/",
          "height": 34
        },
        "outputId": "9f1869ca-5dcb-4bcf-ba14-528e8d807a21"
      },
      "source": [
        "say_wassup('Human')"
      ],
      "execution_count": 14,
      "outputs": [
        {
          "output_type": "stream",
          "text": [
            "Wassup Human!\n"
          ],
          "name": "stdout"
        }
      ]
    },
    {
      "cell_type": "code",
      "metadata": {
        "id": "MzbgKS5xrZJo",
        "colab_type": "code",
        "colab": {}
      },
      "source": [
        ""
      ],
      "execution_count": 0,
      "outputs": []
    }
  ]
}