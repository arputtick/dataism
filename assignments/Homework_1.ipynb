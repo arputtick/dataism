{
  "nbformat": 4,
  "nbformat_minor": 0,
  "metadata": {
    "colab": {
      "name": "Homework 1.ipynb",
      "provenance": [],
      "authorship_tag": "ABX9TyO8rvk3SPDefTiDEC/MHuJr",
      "include_colab_link": true
    },
    "kernelspec": {
      "name": "python3",
      "display_name": "Python 3"
    }
  },
  "cells": [
    {
      "cell_type": "markdown",
      "metadata": {
        "id": "view-in-github",
        "colab_type": "text"
      },
      "source": [
        "<a href=\"https://colab.research.google.com/github/arputtick/dataism/blob/master/assignments/Homework_1.ipynb\" target=\"_parent\"><img src=\"https://colab.research.google.com/assets/colab-badge.svg\" alt=\"Open In Colab\"/></a>"
      ]
    },
    {
      "cell_type": "markdown",
      "metadata": {
        "id": "CGKkS98DdMtM",
        "colab_type": "text"
      },
      "source": [
        "# Welcome \n",
        "to the first dataism Jupyter notebook !!!\n",
        "\n",
        "This is just a test to make sure everything is working correctly and no one has trouble accessing assignments, saving their work etc. This is also a very brief intro for those new to python and Jupyter notebooks. Hopefully you'll find it easy to jump in and start coding.\n",
        "\n",
        "# A quick primer on Jupyter notebooks\n",
        " In theory, you can write and execute the code for (the python part) of an entire project in a single notebook. However, notebooks often reference data stored in a given directory or import functions that are coded in separate .py files.\n",
        "* The notebooks in this course will be as self-contained as possible.\n",
        "\n",
        "* Each block or 'cell' in a Juptyer notebook can be executed independently. You can type out your code and then press 'shift' + 'enter' to run it.\n",
        "\n",
        "* If new cells reference code from earlier cells that are already running, you don't need to rerun the earlier ones.\n",
        "\n",
        "* BUT if you close and reopen the notebook, you have to run all cells from the beginning!"
      ]
    },
    {
      "cell_type": "markdown",
      "metadata": {
        "id": "9Qux5TUFmgUX",
        "colab_type": "text"
      },
      "source": [
        "# Some Basics:\n",
        "\n",
        "Usually you start by importing all of the libraries you need. Try selecting the following cell and pressing 'shift' + 'enter' to run it."
      ]
    },
    {
      "cell_type": "code",
      "metadata": {
        "id": "wX7gZ6FgdCyK",
        "colab_type": "code",
        "colab": {}
      },
      "source": [
        "import numpy as np\n",
        "import pandas\n",
        "import tensorflow as tf\n"
      ],
      "execution_count": 0,
      "outputs": []
    },
    {
      "cell_type": "markdown",
      "metadata": {
        "id": "fyey2iCrnBR3",
        "colab_type": "text"
      },
      "source": [
        "* numpy is a library that includes a bunch of math functions that are really useful for data science. Video: https://www.youtube.com/watch?v=xECXZ3tyONo\n",
        "\n",
        "* pandas is a library that includes a bunch of functions for visualizing data, manipulating data tables etc. Video: https://www.youtube.com/watch?v=dcqPhpY7tWk\n",
        "\n",
        "We will probably use these two libraries. Maybe we'll even use\n",
        "* tensorflow, which allows you to more easily build and train neural networks."
      ]
    },
    {
      "cell_type": "markdown",
      "metadata": {
        "id": "EyG2_mSfn4_0",
        "colab_type": "text"
      },
      "source": [
        "Now that we've imported numpy (and named it 'np'), we can use check out some basic functions.\n",
        "\n",
        "First we can create a matrix (an array) \n",
        "\n",
        "$A = \\begin{pmatrix} 1 & 2 \\\\3 &4\\end{pmatrix}.$ \n",
        "\n"
      ]
    },
    {
      "cell_type": "code",
      "metadata": {
        "id": "ilHMaH6tnsw4",
        "colab_type": "code",
        "colab": {}
      },
      "source": [
        "A = np.array([[1,2],[3,4]]) ### Highlight this and press 'shift' + 'enter' to create and define A."
      ],
      "execution_count": 0,
      "outputs": []
    },
    {
      "cell_type": "code",
      "metadata": {
        "id": "3dDDTnWxobLx",
        "colab_type": "code",
        "colab": {
          "base_uri": "https://localhost:8080/",
          "height": 52
        },
        "outputId": "07228413-43d9-45db-b203-e59be2fd06df"
      },
      "source": [
        "### Hashtags indicate comments in the code that aren't read when it's executed.\n",
        "### It's really good to explain to yourself and others that segments of your code\n",
        "### are doing by using comments.\n",
        "\n",
        "### Let's print A to see how it looks:\n",
        "\n",
        "print(A)"
      ],
      "execution_count": 7,
      "outputs": [
        {
          "output_type": "stream",
          "text": [
            "[[1 2]\n",
            " [3 4]]\n"
          ],
          "name": "stdout"
        }
      ]
    },
    {
      "cell_type": "markdown",
      "metadata": {
        "id": "7zNXyvd1NfX_",
        "colab_type": "text"
      },
      "source": [
        "In data science, data is often presented in matrix form. \n",
        "\n",
        "For example, a black and white photo corresponds to a matrix where each number representes the brightness of the corresponding pixel in the image. \n",
        "\n",
        "Another example might be a matrix where each row corresponds to a police department and\n",
        "* the first column contains # of fatal shootings sorted by department, and \n",
        "* the second column contains the percentage of shootings where the victim(s) was black.\n",
        "\n",
        "So it's really important to understand arrays/matrices if you want to work with data."
      ]
    },
    {
      "cell_type": "markdown",
      "metadata": {
        "id": "OKaxq7zdsVHX",
        "colab_type": "text"
      },
      "source": [
        "Here are a couple operations you can do with numpy:"
      ]
    },
    {
      "cell_type": "code",
      "metadata": {
        "id": "Za3lJ9mKpN4I",
        "colab_type": "code",
        "colab": {
          "base_uri": "https://localhost:8080/",
          "height": 69
        },
        "outputId": "61d82ba3-66ef-4647-dabb-ecdc97e11168"
      },
      "source": [
        "print(A.dot(A)) ### Matrix multiplies A to itself and prints the result.\n",
        "\n",
        "np.max(A) ### Returns the maximum element of A"
      ],
      "execution_count": 17,
      "outputs": [
        {
          "output_type": "stream",
          "text": [
            "[[ 7 10]\n",
            " [15 22]]\n"
          ],
          "name": "stdout"
        },
        {
          "output_type": "execute_result",
          "data": {
            "text/plain": [
              "4"
            ]
          },
          "metadata": {
            "tags": []
          },
          "execution_count": 17
        }
      ]
    },
    {
      "cell_type": "markdown",
      "metadata": {
        "id": "PGJ8qnHeubSU",
        "colab_type": "text"
      },
      "source": [
        "# Basic math operations\n",
        "\n",
        "Math computations work like you'd expect:"
      ]
    },
    {
      "cell_type": "code",
      "metadata": {
        "id": "yfXAWnZLuk5M",
        "colab_type": "code",
        "colab": {
          "base_uri": "https://localhost:8080/",
          "height": 34
        },
        "outputId": "71a15417-2dd7-4abe-da7a-4e0969ab2c03"
      },
      "source": [
        "1+1"
      ],
      "execution_count": 2,
      "outputs": [
        {
          "output_type": "execute_result",
          "data": {
            "text/plain": [
              "2"
            ]
          },
          "metadata": {
            "tags": []
          },
          "execution_count": 2
        }
      ]
    },
    {
      "cell_type": "code",
      "metadata": {
        "id": "mnMczos7uwj2",
        "colab_type": "code",
        "colab": {
          "base_uri": "https://localhost:8080/",
          "height": 34
        },
        "outputId": "152b691f-38b3-4b0d-e26d-c8aa46de940e"
      },
      "source": [
        "3-4"
      ],
      "execution_count": 5,
      "outputs": [
        {
          "output_type": "execute_result",
          "data": {
            "text/plain": [
              "-1"
            ]
          },
          "metadata": {
            "tags": []
          },
          "execution_count": 5
        }
      ]
    },
    {
      "cell_type": "code",
      "metadata": {
        "id": "WTxQfDuSunxb",
        "colab_type": "code",
        "colab": {
          "base_uri": "https://localhost:8080/",
          "height": 34
        },
        "outputId": "7d01e288-8ee4-4017-9468-9514b675584a"
      },
      "source": [
        "3*3"
      ],
      "execution_count": 3,
      "outputs": [
        {
          "output_type": "execute_result",
          "data": {
            "text/plain": [
              "9"
            ]
          },
          "metadata": {
            "tags": []
          },
          "execution_count": 3
        }
      ]
    },
    {
      "cell_type": "code",
      "metadata": {
        "id": "eWuuephiuqbA",
        "colab_type": "code",
        "colab": {
          "base_uri": "https://localhost:8080/",
          "height": 34
        },
        "outputId": "d58711a0-409b-47c0-f879-cd78d74943e6"
      },
      "source": [
        "9/2"
      ],
      "execution_count": 4,
      "outputs": [
        {
          "output_type": "execute_result",
          "data": {
            "text/plain": [
              "4.5"
            ]
          },
          "metadata": {
            "tags": []
          },
          "execution_count": 4
        }
      ]
    },
    {
      "cell_type": "markdown",
      "metadata": {
        "id": "0wF1h5u2pTJv",
        "colab_type": "text"
      },
      "source": [
        "# Defining functions\n",
        "\n",
        "You can also write functions in a Jupyter notebook. Functions take in a specific input, do something with it, and spit out an output.\n",
        "\n",
        "Let's define a simple function:"
      ]
    },
    {
      "cell_type": "code",
      "metadata": {
        "id": "m8WUlM1YpobX",
        "colab_type": "code",
        "colab": {}
      },
      "source": [
        "def say_wassup(name):\n",
        "    '''Usually you start with 'tab' and three apostrophes and then describe what your\n",
        "    function does. This text appears if someone tries to look your function up to see\n",
        "    what it does.\n",
        "\n",
        "    name: is a string. A string is sequence of characters enclosed in ''.\n",
        "    For example 'Alex' or 'Wall-E'\n",
        "\n",
        "    This function takes a name as an input and outputs the sentence:\n",
        "    \"Whassup <name>!\"\n",
        "\n",
        "    Ex. say_wassup('Dawg')\n",
        "        Output: Whassup Dawg!\n",
        "\n",
        "    You have to end the explanation with three apostrophes before you start\n",
        "    writing the code.\n",
        "    '''\n",
        "\n",
        "    return print('Wassup ' + name + '!') ### This is the output"
      ],
      "execution_count": 0,
      "outputs": []
    },
    {
      "cell_type": "markdown",
      "metadata": {
        "id": "B9trwv8frkw_",
        "colab_type": "text"
      },
      "source": [
        "Once you've run the cell containing the function, you can use it with whatever name you want. Try running the next line of code:"
      ]
    },
    {
      "cell_type": "code",
      "metadata": {
        "id": "Ex91ytIBq5RX",
        "colab_type": "code",
        "colab": {
          "base_uri": "https://localhost:8080/",
          "height": 34
        },
        "outputId": "dd373476-3dad-43b8-fa2e-f53925356967"
      },
      "source": [
        "say_wassup('Human')"
      ],
      "execution_count": 20,
      "outputs": [
        {
          "output_type": "stream",
          "text": [
            "Wassup Human!\n"
          ],
          "name": "stdout"
        }
      ]
    },
    {
      "cell_type": "markdown",
      "metadata": {
        "id": "qKGOyW7ytX9i",
        "colab_type": "text"
      },
      "source": [
        "# Tabs are really important in Python!!!\n",
        "\n",
        "As a general rule if you are writing a block of code that belongs together (function, for-loop, if-statement...), you HAVE TO indent everything after the first line belonging to that block!\n",
        "\n",
        "Try running the following cell. It's the same as above, except that 'return' is no longer indented."
      ]
    },
    {
      "cell_type": "code",
      "metadata": {
        "id": "MzbgKS5xrZJo",
        "colab_type": "code",
        "colab": {
          "base_uri": "https://localhost:8080/",
          "height": 130
        },
        "outputId": "77c3a36b-2160-42b5-85c4-4cfe761044b9"
      },
      "source": [
        "def say_wassup(name):\n",
        "    '''Usually you start by writing three apostrophes and then describe what your\n",
        "    does. This text appears if someone tries to look your function up to see\n",
        "    what it does.\n",
        "\n",
        "    name: is a string. A string is sequence of characters enclosed in ''.\n",
        "    For example 'Alex' or 'Wall-E'\n",
        "\n",
        "    This function takes a name as an input and outputs the sentence:\n",
        "    \"Whassup name!\"\n",
        "\n",
        "    Ex. say_wassup('Dawg')\n",
        "        Output: Whassup Dawg!\n",
        "\n",
        "    You have to end the explantion with three apostrophes before you start\n",
        "    writing the code.\n",
        "    '''\n",
        "\n",
        "return print('Wassup ' + name + '!') ### This is the output"
      ],
      "execution_count": 1,
      "outputs": [
        {
          "output_type": "error",
          "ename": "SyntaxError",
          "evalue": "ignored",
          "traceback": [
            "\u001b[0;36m  File \u001b[0;32m\"<ipython-input-1-56616788e3e0>\"\u001b[0;36m, line \u001b[0;32m19\u001b[0m\n\u001b[0;31m    return print('Wassup ' + name + '!') ### This is the output\u001b[0m\n\u001b[0m                                                               ^\u001b[0m\n\u001b[0;31mSyntaxError\u001b[0m\u001b[0;31m:\u001b[0m 'return' outside function\n"
          ]
        }
      ]
    },
    {
      "cell_type": "markdown",
      "metadata": {
        "id": "06ZctCLNuJqo",
        "colab_type": "text"
      },
      "source": [
        "It doesn't work because the 'return' part belongs to the function we're defining and should be indented."
      ]
    },
    {
      "cell_type": "markdown",
      "metadata": {
        "id": "moP1xUdNu4xq",
        "colab_type": "text"
      },
      "source": [
        "# Exercise\n",
        "\n",
        "Define a function that takes a name as an input and outputs \n",
        "* \"Wie gehts \\<name>\" if the name is Helga and \n",
        "* \"The names is \\<name>, James \\<name>\" otherwise\n",
        "\n",
        "Some code is provided for guidance."
      ]
    },
    {
      "cell_type": "code",
      "metadata": {
        "id": "fIzW_b_Jvmn_",
        "colab_type": "code",
        "colab": {}
      },
      "source": [
        "def whats_in_a_name(name):\n",
        "    \"\"\"Describe the function here:\n",
        "    \"\"\"\n",
        "\n",
        "    if name == 'Helga': \n",
        "    # '==' checks if statement is true or not.\n",
        "    # If the name string is 'Helga', then the\n",
        "    # indented code following the ':' will be\n",
        "    # executed\n",
        "        ### YOUR CODE HERE.\n",
        "        pass \n",
        "        ### replace 'pass' with your code.\n",
        "\n",
        "    else:\n",
        "    # If the name string is not 'Helga', then\n",
        "    # the following indented code is executed\n",
        "        output = 'The name is ' + name +', James ' + name\n",
        "\n",
        "    return print(output)"
      ],
      "execution_count": 0,
      "outputs": []
    },
    {
      "cell_type": "code",
      "metadata": {
        "id": "yPqQS-scwddu",
        "colab_type": "code",
        "colab": {
          "base_uri": "https://localhost:8080/",
          "height": 252
        },
        "outputId": "0d9a6486-5163-49bc-d9de-d4fe17d5c479"
      },
      "source": [
        "whats_in_a_name('Helga')"
      ],
      "execution_count": 22,
      "outputs": [
        {
          "output_type": "error",
          "ename": "UnboundLocalError",
          "evalue": "ignored",
          "traceback": [
            "\u001b[0;31m---------------------------------------------------------------------------\u001b[0m",
            "\u001b[0;31mUnboundLocalError\u001b[0m                         Traceback (most recent call last)",
            "\u001b[0;32m<ipython-input-22-1be0ed0f8307>\u001b[0m in \u001b[0;36m<module>\u001b[0;34m()\u001b[0m\n\u001b[0;32m----> 1\u001b[0;31m \u001b[0mwhats_in_a_name\u001b[0m\u001b[0;34m(\u001b[0m\u001b[0;34m'Helga'\u001b[0m\u001b[0;34m)\u001b[0m\u001b[0;34m\u001b[0m\u001b[0;34m\u001b[0m\u001b[0m\n\u001b[0m",
            "\u001b[0;32m<ipython-input-21-a0ff000f132a>\u001b[0m in \u001b[0;36mwhats_in_a_name\u001b[0;34m(name)\u001b[0m\n\u001b[1;32m     11\u001b[0m         \u001b[0moutput\u001b[0m \u001b[0;34m=\u001b[0m \u001b[0;34m'The name is '\u001b[0m \u001b[0;34m+\u001b[0m \u001b[0mname\u001b[0m \u001b[0;34m+\u001b[0m\u001b[0;34m', James '\u001b[0m \u001b[0;34m+\u001b[0m \u001b[0mname\u001b[0m\u001b[0;34m\u001b[0m\u001b[0;34m\u001b[0m\u001b[0m\n\u001b[1;32m     12\u001b[0m \u001b[0;34m\u001b[0m\u001b[0m\n\u001b[0;32m---> 13\u001b[0;31m     \u001b[0;32mreturn\u001b[0m \u001b[0mprint\u001b[0m\u001b[0;34m(\u001b[0m\u001b[0moutput\u001b[0m\u001b[0;34m)\u001b[0m\u001b[0;34m\u001b[0m\u001b[0;34m\u001b[0m\u001b[0m\n\u001b[0m",
            "\u001b[0;31mUnboundLocalError\u001b[0m: local variable 'output' referenced before assignment"
          ]
        }
      ]
    },
    {
      "cell_type": "code",
      "metadata": {
        "id": "818p3iZaw-uE",
        "colab_type": "code",
        "colab": {
          "base_uri": "https://localhost:8080/",
          "height": 34
        },
        "outputId": "0fc32498-9513-4fd6-fc4d-f4241de0241b"
      },
      "source": [
        "whats_in_a_name('Bond')"
      ],
      "execution_count": 23,
      "outputs": [
        {
          "output_type": "stream",
          "text": [
            "The name is Bond, James Bond\n"
          ],
          "name": "stdout"
        }
      ]
    },
    {
      "cell_type": "markdown",
      "metadata": {
        "id": "1eF6yNraPQQ4",
        "colab_type": "text"
      },
      "source": [
        "Now try saving your work (File -> Save a copy in drive/github). Make sure you know how to reopen the notebook after closing it and that all of your changes were saved. To reopen your saved copy, you have to look in **your** Google Drive. Reopening the one from the course Github repo will give the you the original notebook without any changes you might have made."
      ]
    }
  ]
}