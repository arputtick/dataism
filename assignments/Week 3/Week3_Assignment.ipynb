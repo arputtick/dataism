{
  "nbformat": 4,
  "nbformat_minor": 0,
  "metadata": {
    "colab": {
      "name": "Week3_Assignment.ipynb",
      "provenance": [],
      "authorship_tag": "ABX9TyPz6WfD6ebHQW2/SuyF1amD",
      "include_colab_link": true
    },
    "kernelspec": {
      "name": "python3",
      "display_name": "Python 3"
    }
  },
  "cells": [
    {
      "cell_type": "markdown",
      "metadata": {
        "id": "view-in-github",
        "colab_type": "text"
      },
      "source": [
        "<a href=\"https://colab.research.google.com/github/arputtick/dataism/blob/master/assignments/Week%203/Week3_Assignment.ipynb\" target=\"_parent\"><img src=\"https://colab.research.google.com/assets/colab-badge.svg\" alt=\"Open In Colab\"/></a>"
      ]
    },
    {
      "cell_type": "markdown",
      "metadata": {
        "id": "3IPITjlEdEFU",
        "colab_type": "text"
      },
      "source": [
        "# Week 3 Assignment: Poverty vs. Murder\n",
        "\n",
        "I found a sample dataset [here](https://people.sc.fsu.edu/~jburkardt/datasets/regression/regression.html), which contains data about poverty levels and corresonding murder rates.\n",
        "\n",
        "Your assignment is to do linear regression on the data set."
      ]
    },
    {
      "cell_type": "code",
      "metadata": {
        "id": "xL8YB_pdaGtR",
        "colab_type": "code",
        "colab": {}
      },
      "source": [
        "import pandas as pd\n",
        "import numpy as np\n",
        "import matplotlib.pyplot as plt"
      ],
      "execution_count": 0,
      "outputs": []
    },
    {
      "cell_type": "code",
      "metadata": {
        "id": "ClTQCRmcadBG",
        "colab_type": "code",
        "colab": {}
      },
      "source": [
        "## Use pandas to import the data\n",
        "\n",
        "data_url = 'https://github.com/arputtick/dataism/raw/master/assignments/Week%203/Income%20vs.%20Murder.xlsx'\n",
        "poverty_murder_data = pd.read_excel(data_url)\n",
        "poverty_murder_data "
      ],
      "execution_count": 0,
      "outputs": []
    },
    {
      "cell_type": "code",
      "metadata": {
        "id": "Nr1-NNGJaqZV",
        "colab_type": "code",
        "colab": {}
      },
      "source": [
        "## Extract our samples in X array and labels in Y array\n",
        "\n",
        "X = poverty_murder_data['Percent with income below $ 5000']\n",
        "Y = poverty_murder_data['Number of murders per 1,000,000 inhabitants']"
      ],
      "execution_count": 0,
      "outputs": []
    },
    {
      "cell_type": "code",
      "metadata": {
        "id": "cuanKAz_bDhp",
        "colab_type": "code",
        "colab": {}
      },
      "source": [
        "## Plot the data\n",
        "\n",
        "plt.plot(X,Y, 'bo')\n",
        "\n",
        "# label the axes\n",
        "plt.ylabel('Percent with income below $5000')\n",
        "plt.xlabel('No. murders per 10^6 residents')\n",
        "\n",
        "# start the plot at the point (0,0)\n",
        "plt.xlim(xmin = 0)\n",
        "plt.ylim(ymin = 0)\n",
        "\n",
        "# display the plot\n",
        "plt.show()"
      ],
      "execution_count": 0,
      "outputs": []
    },
    {
      "cell_type": "markdown",
      "metadata": {
        "id": "kTO-eahtctwK",
        "colab_type": "text"
      },
      "source": [
        "## Choosing inital weights\n",
        "\n",
        "You can play around with different ways to chooise your inital w and b, but here's a reasonable way:"
      ]
    },
    {
      "cell_type": "code",
      "metadata": {
        "id": "Ps7TIBACbHSA",
        "colab_type": "code",
        "colab": {}
      },
      "source": [
        " w = np.random.random_sample() * 10"
      ],
      "execution_count": 0,
      "outputs": []
    },
    {
      "cell_type": "code",
      "metadata": {
        "id": "KKokXegibaWl",
        "colab_type": "code",
        "colab": {}
      },
      "source": [
        "b = np.random.random_sample() * - 100"
      ],
      "execution_count": 0,
      "outputs": []
    },
    {
      "cell_type": "markdown",
      "metadata": {
        "id": "vDJKF8umeLj3",
        "colab_type": "text"
      },
      "source": [
        "---\n",
        "## You're code here:"
      ]
    },
    {
      "cell_type": "code",
      "metadata": {
        "id": "6db3L_cmePLN",
        "colab_type": "code",
        "colab": {}
      },
      "source": [
        ""
      ],
      "execution_count": 0,
      "outputs": []
    }
  ]
}