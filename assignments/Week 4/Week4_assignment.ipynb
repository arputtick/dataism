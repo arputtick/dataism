{
  "nbformat": 4,
  "nbformat_minor": 0,
  "metadata": {
    "colab": {
      "name": "Week4_assignment.ipynb",
      "provenance": [],
      "collapsed_sections": [],
      "authorship_tag": "ABX9TyP+0CWXS8IiTclVUEFHVySu",
      "include_colab_link": true
    },
    "kernelspec": {
      "name": "python3",
      "display_name": "Python 3"
    }
  },
  "cells": [
    {
      "cell_type": "markdown",
      "metadata": {
        "id": "view-in-github",
        "colab_type": "text"
      },
      "source": [
        "<a href=\"https://colab.research.google.com/github/arputtick/dataism/blob/master/assignments/Week%204/Week4_assignment.ipynb\" target=\"_parent\"><img src=\"https://colab.research.google.com/assets/colab-badge.svg\" alt=\"Open In Colab\"/></a>"
      ]
    },
    {
      "cell_type": "code",
      "metadata": {
        "id": "rh3fqOdELf-9",
        "colab_type": "code",
        "colab": {}
      },
      "source": [
        "import networkx as nx"
      ],
      "execution_count": 1,
      "outputs": []
    },
    {
      "cell_type": "markdown",
      "metadata": {
        "id": "OfOeWXynKCgl",
        "colab_type": "text"
      },
      "source": [
        "# Linear Threshold Model - Competing Influences\n",
        "\n",
        "In this assignment, we'll look at extending the linear threshold model to a situation with two competing influences. This was case in the USC study, which modeled both the \"bad influence\" from drug-users and \"good influence\" from non-drug-usuers. (It'd be interesting to know where they draww the line between users and non-usuers).\n",
        "\n",
        "We'll use the same six-person social network from last week's example.\n",
        "\n",
        "|Person i|Person j|\n",
        "|---|---|\n",
        "|1|2|\n",
        "|1|3|\n",
        "|1|5|\n",
        "|2|1|\n",
        "|3|2|\n",
        "|4|2|\n",
        "|4|3|\n",
        "|5|3|\n",
        "|5|4|\n",
        "|6|4|\n",
        "|6|5|\n",
        "\n",
        "Again, we assume that each of a person's influencers influences them equally and that everyone has a threshold value of 0.5\n",
        "\n",
        "\n",
        "We'll start by assuming that Persons 1, 3 and 6 want Trump to be elected and Persons 2, 4 and 5 want him out:"
      ]
    },
    {
      "cell_type": "code",
      "metadata": {
        "id": "_FXCFAoEGxBD",
        "colab_type": "code",
        "colab": {}
      },
      "source": [
        "vote_trump = [1,3,6]\n",
        "no_trump = [2,4,5]"
      ],
      "execution_count": null,
      "outputs": []
    },
    {
      "cell_type": "markdown",
      "metadata": {
        "id": "h1Rbxt14M2yu",
        "colab_type": "text"
      },
      "source": [
        "Now let's set up the model in exactly the same way as last week."
      ]
    },
    {
      "cell_type": "code",
      "metadata": {
        "id": "-sKTqETtLcAJ",
        "colab_type": "code",
        "colab": {}
      },
      "source": [
        "# create directed graph object and name it 'social_net_graph'\n",
        "social_net_graph = nx.DiGraph()"
      ],
      "execution_count": null,
      "outputs": []
    },
    {
      "cell_type": "code",
      "metadata": {
        "id": "YEdEd3XALmeE",
        "colab_type": "code",
        "colab": {}
      },
      "source": [
        "# add edges to the graph\n",
        "social_net_graph.add_edges_from([(1,2), (1,3), (1,5), (2,1), (3,2), (4,2), (4,3), (5,3),\\\n",
        "                                (5,4), (6,4), (6,5)])"
      ],
      "execution_count": null,
      "outputs": []
    },
    {
      "cell_type": "code",
      "metadata": {
        "id": "ykI4AvRnL0Wk",
        "colab_type": "code",
        "colab": {}
      },
      "source": [
        "# find the positions of nodes in the graph, as (x,y)-coordinates\n",
        "pos = nx.spring_layout(social_net_graph) "
      ],
      "execution_count": null,
      "outputs": []
    },
    {
      "cell_type": "code",
      "metadata": {
        "id": "86Io-tRAL3z-",
        "colab_type": "code",
        "colab": {
          "base_uri": "https://localhost:8080/",
          "height": 248
        },
        "outputId": "16c32173-0857-40d7-b0f6-a18896cdef3b"
      },
      "source": [
        "# draw the graph with vote_trump as red and no_trump as blue\n",
        "nx.draw_networkx(social_net_graph, pos, \n",
        "                    nodelist = vote_trump,\n",
        "                    node_color = 'r')\n",
        "\n",
        "nx.draw_networkx(social_net_graph, pos, \n",
        "                    nodelist = no_trump,\n",
        "                    node_color = 'b')"
      ],
      "execution_count": null,
      "outputs": [
        {
          "output_type": "display_data",
          "data": {
            "image/png": "[encoded data removed]",
            "text/plain": [
              "<Figure size 432x288 with 1 Axes>"
            ]
          },
          "metadata": {
            "tags": []
          }
        }
      ]
    },
    {
      "cell_type": "code",
      "metadata": {
        "id": "Cjv01oesMaSQ",
        "colab_type": "code",
        "colab": {}
      },
      "source": [
        "# Compute the number of influencers for each person simultaneously:\n",
        "num_influencers = social_net_graph.in_degree()\n",
        "\n",
        "## Compute the influence weights and label the edges with them under the\n",
        "## attribute name 'influence.'\n",
        "\n",
        "for edge in social_net_graph.edges:\n",
        "    social_net_graph.edges[edge[0],edge[1]]['influence'] = 1 / num_influencers[edge[1]]"
      ],
      "execution_count": null,
      "outputs": []
    },
    {
      "cell_type": "code",
      "metadata": {
        "id": "mdm7OpywMkxL",
        "colab_type": "code",
        "colab": {}
      },
      "source": [
        "# Give every person a threshold value of 0.5\n",
        "for node in social_net_graph.nodes:\n",
        "    social_net_graph.nodes[node]['threshold'] = 0.5"
      ],
      "execution_count": null,
      "outputs": []
    },
    {
      "cell_type": "code",
      "metadata": {
        "id": "vu8NyzQ5M0Q9",
        "colab_type": "code",
        "colab": {}
      },
      "source": [
        "new_vote_trump = []\n",
        "new_no_trump = []\n",
        "for node in social_net_graph.nodes:\n",
        "    if node in vote_trump:\n",
        "        ### YOUR CODE HERE ###\n",
        "\n",
        "        continue # delete this and add your code.\n",
        "\n",
        "        ######################\n",
        "\n",
        "                \n",
        "\n",
        "    if node in no_trump:\n",
        "        influence_sum = 0\n",
        "        for neighbor in social_net_graph.predecessors(node):\n",
        "\n",
        "            if neighbor in vote_trump:\n",
        "                influence_sum += social_net_graph.edges[neighbor,node]['influence']\n",
        "\n",
        "            if influence_sum > social_net_graph.nodes[node]['threshold']:\n",
        "                new_vote_trump.append(node)\n",
        "               \n",
        "## Add the list of new Trump supporters to the vote_trump list.\n",
        "# In Python, summing two lists just concatenates them.\n",
        "# For example, [1,2] + [3,4] = [1,2,3,4].\n",
        "vote_trump += new_vote_trump\n",
        "\n",
        "## Subtract the list of new anti-Trumpers from the vote_trump list.\n",
        "# Unfortunately, subtracting a sublist from a list is not as easy.\n",
        "# The following code will do it in this case. We convert the list to sets,\n",
        "# subtract, and then reconvert to a list. A set is sort of like an unordered list.\n",
        "vote_trump = list(set(vote_trump)-set(new_no_trump)) \n",
        "\n",
        "## Do the same fore the no_trump list\n",
        "no_trump += new_no_trump\n",
        "no_trump = list(set(no_trump)-set(new_vote_trump)) "
      ],
      "execution_count": null,
      "outputs": []
    },
    {
      "cell_type": "markdown",
      "metadata": {
        "id": "FPs9N6ZdacAV",
        "colab_type": "text"
      },
      "source": [
        "Check new list of pro-Trumpers:"
      ]
    },
    {
      "cell_type": "code",
      "metadata": {
        "id": "AHbjOSnNYH3i",
        "colab_type": "code",
        "colab": {}
      },
      "source": [
        "vote_trump"
      ],
      "execution_count": null,
      "outputs": []
    },
    {
      "cell_type": "markdown",
      "metadata": {
        "id": "8UdVddV_ajJR",
        "colab_type": "text"
      },
      "source": [
        "Make sure it's completementary to the list of anti-Trumpers:"
      ]
    },
    {
      "cell_type": "code",
      "metadata": {
        "id": "fiPneEiuZlfC",
        "colab_type": "code",
        "colab": {}
      },
      "source": [
        "no_trump"
      ],
      "execution_count": null,
      "outputs": []
    },
    {
      "cell_type": "markdown",
      "metadata": {
        "id": "UZ4I5_Eqare9",
        "colab_type": "text"
      },
      "source": [
        "Draw the results"
      ]
    },
    {
      "cell_type": "code",
      "metadata": {
        "id": "7xZ1FKz3Zpk0",
        "colab_type": "code",
        "colab": {}
      },
      "source": [
        "# draw the graph with vote_trump as red and no_trump as blue\n",
        "nx.draw_networkx(social_net_graph, pos, \n",
        "                    nodelist = vote_trump,\n",
        "                    node_color = 'r')\n",
        "\n",
        "nx.draw_networkx(social_net_graph, pos, \n",
        "                    nodelist = no_trump,\n",
        "                    node_color = 'b')"
      ],
      "execution_count": null,
      "outputs": []
    },
    {
      "cell_type": "markdown",
      "metadata": {
        "id": "bHshP2x8awA3",
        "colab_type": "text"
      },
      "source": [
        "## Iterate\n",
        "Now try repeating the process to see what happens."
      ]
    }
  ]
}